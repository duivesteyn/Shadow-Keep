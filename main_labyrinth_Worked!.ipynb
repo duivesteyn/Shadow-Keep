{
 "cells": [
  {
   "cell_type": "markdown",
   "metadata": {},
   "source": [
    "\n",
    "# Shadow Keep - Labyrinth Decoding"
   ]
  },
  {
   "cell_type": "code",
   "execution_count": null,
   "metadata": {},
   "outputs": [],
   "source": [
    "#py\n",
    "#Shadow Keep - Labyrinth Decoding\n",
    "# bmd\n",
    "# 2024-09-08\n",
    "#\n",
    "# Decoding the LAbyrinth Dungeon from 1992 Game Shadow Keep\n",
    "# Really wanted to see everything in this dungeon, and its really slow to map by hand!\n",
    "#\n",
    "# Would like to print it here, work out the codes and then assemble into a picture!\n",
    "\n",
    "# Get the Map Data\n",
    "f = open(\"raw_as_ascii.txt\", \"r\")\n",
    "map_data = f.read()\n",
    "print(map_data)\n",
    "size = len(map_data)\n",
    "print(size) # Labyrinth # Length is 11700 -> this is roughly 108 blocks by 108 - > Not a perfect square. ok that doesnt matter. Answer is going to be around this!\n",
    "\n"
   ]
  },
  {
   "cell_type": "code",
   "execution_count": null,
   "metadata": {},
   "outputs": [],
   "source": [
    "#What are the factors of 11700? -> The map is going to be approximately square-ish.\n",
    "from functools import reduce\n",
    "\n",
    "#https://stackoverflow.com/questions/6800193/what-is-the-most-efficient-way-of-finding-all-the-factors-of-a-number-in-python\n",
    "def factors(n):\n",
    "    return set(reduce(\n",
    "        list.__add__,\n",
    "        ([i, n//i] for i in range(1, int(n**0.5) + 1) if n % i == 0)))\n",
    "\n",
    "potential_dimensions = factors(size)\n",
    "print('All Dimensions:')\n",
    "print(potential_dimensions)\n",
    "potential_dimensions_2 = []\n",
    "\n",
    "for item in potential_dimensions:\n",
    "    if item > 100 and item < 500:\n",
    "        potential_dimensions_2.append(item)\n",
    "\n",
    "print('\\nThe likely dimensions are:')\n",
    "print(potential_dimensions_2)"
   ]
  },
  {
   "cell_type": "code",
   "execution_count": null,
   "metadata": {},
   "outputs": [],
   "source": [
    "# That bottom one of 117x100 is the sort of dimension that seems right.\n",
    "# Now want to draw the data in lines of x Long, i.e. 117 rows of 100, or 100 rows of 117 long!\n",
    "\n",
    "def split_string_by_n_chars(input_string, n):\n",
    "    return [input_string[i:i+n] for i in range(0, len(input_string), n)]\n",
    "\n",
    "n = 130  # Number of characters per line\n",
    "output = split_string_by_n_chars(map_data, n)\n",
    "for line in output: print(line)"
   ]
  },
  {
   "cell_type": "code",
   "execution_count": null,
   "metadata": {},
   "outputs": [],
   "source": [
    "for n in potential_dimensions_2:\n",
    "    m = 11700/n\n",
    "    print(f'Printing {n} by {m}')\n",
    "\n",
    "for n in potential_dimensions_2:\n",
    "    m = int(11700/n)\n",
    "    print(f'Printing {m} by {n}') \n",
    "    output = split_string_by_n_chars(map_data, m)\n",
    "    for line in output: print(line)\n",
    "    print('\\n\\n')"
   ]
  },
  {
   "cell_type": "markdown",
   "metadata": {},
   "source": [
    "## This lead to me finding it the result is 90 by 130\n",
    "\n",
    "❗❗❗ This is the only version with perfectly straight lines down. and makes sense. can even recognise parts of the maze!!❗❗❗ \n",
    "Unique Chars: {' ', 'y', 'G', 'b', 'a', '$', ':', 'c', 'l'}\n",
    "\n",
    "- ' ' is empty walking space ❓\n",
    "- G is the START & EXIT!!\n",
    "- $ is a wall\n",
    "- C is treasure!\n",
    "- ':' is a scroll that says \"dead end\"\n",
    "- b: ❓❓❓\n",
    "- a: ❓❓❓\n",
    "- y: ❓❓❓\n",
    "- l ❓❓❓\n"
   ]
  },
  {
   "cell_type": "code",
   "execution_count": null,
   "metadata": {},
   "outputs": [],
   "source": [
    "output = split_string_by_n_chars(map_data, 90)\n",
    "square_data_array = []\n",
    "square_data_array_2 = []\n",
    "for line in output: \n",
    "    #print(line)\n",
    "    square_data_array.append(line)\n",
    "\n",
    "#Split up the data into indiviudla array elements (inc per line)\n",
    "for line in output:\n",
    "    line_data = []\n",
    "    for char in line:\n",
    "        line_data.append(char)\n",
    "    square_data_array_2.append(line_data)\n",
    "\n",
    "\n",
    "special_chars = {'y', 'G', 'b', 'a', ':', 'c', 'l'}\n",
    "\n",
    "#PRINT DATA VISUALLY\n",
    "for line in square_data_array:\n",
    "    for char in line:\n",
    "        if char in special_chars:\n",
    "            print(f\"\\x1b[31m{char}\\x1b[0m\", end='')\n",
    "        else:\n",
    "            print(char, end='')\n",
    "    print('')"
   ]
  },
  {
   "cell_type": "code",
   "execution_count": null,
   "metadata": {},
   "outputs": [],
   "source": [
    "def unique_characters(s):\n",
    "    return set(s)\n",
    "\n",
    "# Example usage\n",
    "string = \"hello world\"\n",
    "unique_chars = unique_characters(map_data)\n",
    "print(unique_chars)"
   ]
  },
  {
   "cell_type": "code",
   "execution_count": null,
   "metadata": {},
   "outputs": [],
   "source": [
    "# Happy to decode the hex into a visual :)\n",
    "# its a little hard to follow as the fonts arent perfectly square.\n",
    "\n",
    "#Can I now export this as an image?? I.e. a Perfect square reference drawing?\n",
    "# Would be nicely replicable for the other maps too!!\n",
    "\n",
    "# Example usage:\n",
    "ascii_art = [\n",
    "    [' ', ' ', 'G'],\n",
    "    ['$', '$', '$'],\n",
    "    [' ', '$', '$']\n",
    "]\n",
    "print(ascii_art)\n",
    "\n",
    "print(square_data_array)\n",
    "print(square_data_array_2)"
   ]
  },
  {
   "cell_type": "markdown",
   "metadata": {},
   "source": [
    "## Now Render as a single image! (This Worked!!! EPIC! -> Used chatgpt to speed this up. worked great!)"
   ]
  },
  {
   "cell_type": "code",
   "execution_count": 25,
   "metadata": {},
   "outputs": [],
   "source": [
    "from PIL import Image\n",
    "import numpy as np\n",
    "\n",
    "def create_image_from_ascii(ascii_art, img_map, output_size=(1024, 1024), char_size=(50, 50)):\n",
    "    \"\"\"\n",
    "    Create an image by replacing ASCII characters with corresponding images.\n",
    "    \n",
    "    ascii_art: 2D array of characters (ASCII art)\n",
    "    img_map: Dictionary mapping characters to image file paths\n",
    "    output_size: Size of the final image (width, height)\n",
    "    char_size: Size for each character-replacing image (width, height)\n",
    "    \"\"\"\n",
    "    # Calculate final image size based on character size and ASCII dimensions\n",
    "    ascii_height = len(ascii_art)\n",
    "    ascii_width = len(ascii_art[0]) if ascii_height > 0 else 0\n",
    "    \n",
    "    final_image_width = ascii_width * char_size[0]\n",
    "    final_image_height = ascii_height * char_size[1]\n",
    "    \n",
    "    final_image = Image.new(\"RGB\", (final_image_width, final_image_height))\n",
    "\n",
    "    # Iterate through each character in the ASCII art and paste corresponding image\n",
    "    for i, row in enumerate(ascii_art):\n",
    "        for j, char in enumerate(row):\n",
    "            if char in img_map:\n",
    "                # Open the image corresponding to the current ASCII character\n",
    "                img = Image.open(img_map[char])\n",
    "                \n",
    "                # Resize the image to the specified character size\n",
    "                img = img.resize(char_size)\n",
    "                \n",
    "                # Calculate the position to paste the image\n",
    "                pos_x = j * char_size[0]\n",
    "                pos_y = i * char_size[1]\n",
    "                \n",
    "                # Paste the image into the final image\n",
    "                final_image.paste(img, (pos_x, pos_y))\n",
    "\n",
    "    # Resize the final image to the desired output size\n",
    "    final_image = final_image.resize(output_size)\n",
    "    \n",
    "    return final_image\n",
    "\n",
    "# Example usage:\n",
    "ascii_art = [\n",
    "    [' ', ' ', 'G'],\n",
    "    ['$', '$', '$'],\n",
    "    [' ', '$', '$']\n",
    "]\n",
    "\n",
    "# Map characters to image file paths\n",
    "img_map = {\n",
    "    'G': 'img/cave-32.png',\n",
    "    ' ': 'img/empty-32.png',\n",
    "    '$': 'img/wall-32.png',\n",
    "    'c': 'img/treasure-32.png',\n",
    "    ':': 'img/scroll-32.png',\n",
    "}\n",
    "\n",
    "final_image = create_image_from_ascii(square_data_array_2, img_map, output_size=(2500, 2500), char_size=(50, 50)) # Create the final image from ASCII art and image map\n",
    "final_image.save('output_image.png') # Save the image"
   ]
  }
 ],
 "metadata": {
  "kernelspec": {
   "display_name": ".local",
   "language": "python",
   "name": "python3"
  },
  "language_info": {
   "codemirror_mode": {
    "name": "ipython",
    "version": 3
   },
   "file_extension": ".py",
   "mimetype": "text/x-python",
   "name": "python",
   "nbconvert_exporter": "python",
   "pygments_lexer": "ipython3",
   "version": "3.12.4"
  }
 },
 "nbformat": 4,
 "nbformat_minor": 2
}
